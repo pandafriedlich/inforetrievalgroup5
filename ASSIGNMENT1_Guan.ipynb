{
 "cells": [
  {
   "cell_type": "markdown",
   "metadata": {},
   "source": [
    "# Task 1\n",
    " ...."
   ]
  },
  {
   "cell_type": "markdown",
   "metadata": {},
   "source": [
    "# Task 2"
   ]
  },
  {
   "cell_type": "code",
   "execution_count": 2,
   "metadata": {},
   "outputs": [
    {
     "data": {
      "image/png": "[encoded data removed]",
      "text/plain": [
       "<Figure size 432x288 with 1 Axes>"
      ]
     },
     "metadata": {
      "needs_background": "light"
     },
     "output_type": "display_data"
    }
   ],
   "source": [
    "import numpy\n",
    "from numpy import (array, dot, arccos, clip)\n",
    "from numpy.linalg import norm\n",
    "import matplotlib.pyplot as plt\n",
    "'''\n",
    "Task 2:\n",
    "'''\n",
    "# Question 1 and 2.\n",
    "def angle(d):\n",
    "    sample = numpy.random.uniform(low=-1, high=1.0, size=(100,d)) # Generate 100 samples from (0.0,1.0)^2\n",
    "    #print(sample)\n",
    "    min_angle_list = []\n",
    "    for vec in sample:\n",
    "        min_angle = 180\n",
    "        for other_vec in sample:\n",
    "            if (vec == other_vec).all():  # here we assume each vector is unique to each other. \n",
    "                pass\n",
    "            else:\n",
    "                c = dot(vec,other_vec)/norm(vec)/norm(other_vec) # Calculate cos<x,y>\n",
    "                angle = numpy.degrees(arccos(clip(c, -1, 1)))\n",
    "                if angle < min_angle:   # check if its the minimun angle\n",
    "                    min_angle = angle\n",
    "        min_angle_list.append(min_angle)\n",
    "    average_angle = numpy.average(min_angle_list)  # Here a convertion from list to array is automatic done.\n",
    "    return average_angle\n",
    "\n",
    "# Question 3 for d in range(1000)\n",
    "def angle_of_d():\n",
    "    result = []\n",
    "    for i in range(1,1001):\n",
    "        result.append(angle(i))\n",
    "    return result\n",
    "\n",
    "x = range(1,1001)\n",
    "y = angle_of_d()\n",
    "%matplotlib inline\n",
    "plt.plot(x,y)\n",
    "plt.show()"
   ]
  },
  {
   "cell_type": "markdown",
   "metadata": {},
   "source": [
    "# Task 3\n",
    "### 1. \n",
    "yes, $\\Sigma p(x,y)=1$\n",
    "### 2. \n",
    "$E_{Y|X=2}[Y]=\\Sigma (Y*p(Y|X=2))=1*0.4+0.14*2+0.05*3=0.83$\n",
    "$p(X=1|Y=3)=0.13$\n",
    "### 3.\n",
    "No, $\\int_{-\\infty}^{\\infty} p(y) dy = 0.5 \\neq 1$\n",
    "### 4.\n",
    "$p(x)=\\int_{-\\infty}^{\\infty} p(x,y) dy$  \n",
    "1.$x<0, p(x,y)=0, p(x)=0$  \n",
    "2.$x\\geq0,p(x)=\\int_{x}^{\\infty} 2e^{-(x+y)} dy=-2e^{-(x+y)}=2e^{-2x}$  \n",
    "  \n",
    "$p(y): samewise, p(y)=2e^{-y}-2e^{-2y}$\n",
    "### 5.\n",
    "$p(X\\leq2|Y=0.5)=\\int_{0}^{2} \\frac{1}{15}(2x+2) dx=\\frac{8}{15}$"
   ]
  },
  {
   "cell_type": "markdown",
   "metadata": {},
   "source": [
    "# Task 4\n",
    "### 1. Symmetric:\n",
    "$C_{ij}=cov(X_i,X_j)=E[(x_i-\\mu_i)(x_j-\\mu_j)]=E[(x_j-\\mu_j)(x_i-\\mu_i)]=cov(X_j,X_i)=C_{ji}$\n",
    "### 2. Semi-positiv:\n",
    "$x^TCx=x^TE[(X-\\mu)(X-\\mu)^T]=E[x^T(X-\\mu)(X-\\mu)^Tx]$\n",
    "$      =E[((X-\\mu)^Ty)^T((X-\\mu)^Ty)]=E[(|(X-\\mu)^Ty)|^2]\\geq0$"
   ]
  }
 ],
 "metadata": {
  "kernelspec": {
   "display_name": "Python 3",
   "language": "python",
   "name": "python3"
  },
  "language_info": {
   "codemirror_mode": {
    "name": "ipython",
    "version": 3
   },
   "file_extension": ".py",
   "mimetype": "text/x-python",
   "name": "python",
   "nbconvert_exporter": "python",
   "pygments_lexer": "ipython3",
   "version": "3.7.0"
  }
 },
 "nbformat": 4,
 "nbformat_minor": 2
}
