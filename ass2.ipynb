{
 "cells": [
  {
   "cell_type": "markdown",
   "metadata": {},
   "source": [
    "# Assignment 2\n",
    "\n",
    "\n",
    "## Task 1\n",
    "**Sol:**\n",
    "\n",
    "- 1. Maximum of quadratic form $Q(\\mathbf{s}) = \\mathbf{s^T\\Sigma \\Sigma^T s}$ with constraint $\\Vert \\mathbf s \\Vert = 1$ euqals to the maximal eigenvalue of $\\mathbf{\\Sigma \\Sigma^T}$, when $\\mathbf s=$ unit eigenvector with respect to the maximal eigenvalue.  \n",
    "$\\mathbf{\\Sigma \\Sigma^T} = diag\\left\\{\\sigma_1^2\\ \\sigma_2^2\\ \\cdots\\ \\sigma_p^2 \\right\\}$, the eigenvector with respect to maximal eigenvalue $\\sigma_1^2$ is $\\mathbf e_1=\\left[1\\ 0\\ \\cdots\\ 0 \\right]^T$.  \n",
    "So, $\\mathbf{\\hat s}=\\left[1\\ 0\\ \\cdots\\ 0 \\right]^T$.  \n",
    "\n",
    "\n",
    "- 2. SVD of $\\mathbf X$ is $\\mathbf{X=U\\Sigma V^T}$, where $\\mathbf U$ is an orthogonal matrix and all columns of $\\mathbf U$ form a set of orthonormal bases of $\\mathbb R^p$. So, vector $\\mathbf a$ can be written as: $\\mathbf{a=Uk}$.   \n",
    "Note that orthogonal matrices do not change the length of a vector, that is $\\mathbf{\\Vert k\\Vert = \\Vert a \\Vert = 1}$.  \n",
    "Then,   \n",
    "$\\dfrac{1}{N}\\mathbf{a^TXX^Ta}\\\\ =\\dfrac{1}{N}\\mathbf{k^TU^T(U\\Sigma V^T )(V\\Sigma^TU^T)Uk}\\\\=\\dfrac{1}{N}\\mathbf{k^T(U^TU)\\Sigma (V^T V)\\Sigma^TU^TUk}\\\\=\\dfrac{1}{N}\\mathbf{k^T\\Sigma \\Sigma^Tk}$.  \n",
    "According the conclusion of the last problem,  \n",
    "$\\mathbf{\\hat k}=\\mathop{argmax}_{\\mathbf k,\\ s.t., \\Vert \\mathbf k \\Vert = 1 } \\mathbf{k^T\\Sigma \\Sigma^Tk}= \\left[1\\ 0\\ \\cdots\\ 0 \\right]^T$.  \n",
    "Hence,   \n",
    "$\\mathbf{ \\hat a = U\\hat k =u_1}$\n",
    "\n"
   ]
  },
  {
   "cell_type": "code",
   "execution_count": null,
   "metadata": {},
   "outputs": [],
   "source": []
  }
 ],
 "metadata": {
  "kernelspec": {
   "display_name": "Python 3",
   "language": "python",
   "name": "python3"
  },
  "language_info": {
   "codemirror_mode": {
    "name": "ipython",
    "version": 3
   },
   "file_extension": ".py",
   "mimetype": "text/x-python",
   "name": "python",
   "nbconvert_exporter": "python",
   "pygments_lexer": "ipython3",
   "version": "3.6.5"
  }
 },
 "nbformat": 4,
 "nbformat_minor": 2
}
